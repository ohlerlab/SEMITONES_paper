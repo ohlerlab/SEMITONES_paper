{
 "cells": [
  {
   "cell_type": "markdown",
   "metadata": {},
   "source": [
    "# Plot the times and runtime values for Splatter simulations"
   ]
  },
  {
   "cell_type": "markdown",
   "metadata": {},
   "source": [
    "## 1. Set up the notebook and functions"
   ]
  },
  {
   "cell_type": "code",
   "execution_count": 1,
   "metadata": {},
   "outputs": [],
   "source": [
    "import os\n",
    "import numpy as np\n",
    "import pandas as pd\n",
    "import matplotlib.pyplot as plt\n",
    "\n",
    "from sklearn.metrics import roc_auc_score"
   ]
  },
  {
   "cell_type": "code",
   "execution_count": 2,
   "metadata": {},
   "outputs": [],
   "source": [
    "os.chdir(\"../data/simulations/\")"
   ]
  },
  {
   "cell_type": "code",
   "execution_count": 3,
   "metadata": {},
   "outputs": [],
   "source": [
    "def ground_truth(X, q1, q2):\n",
    "    cols = [c for c in X.columns if \"DEFac\" in c]\n",
    "    cols = X.loc[:, cols]\n",
    "    q1, q2 = np.percentile(cols.values, [q1, q2])\n",
    "    sig = ((cols < q1) | (cols > q2)).any(1)\n",
    "    return sig.values"
   ]
  },
  {
   "cell_type": "code",
   "execution_count": 4,
   "metadata": {},
   "outputs": [],
   "source": [
    "def p_to_prob(results, genes, method=None, pscores=None):\n",
    "    \"\"\"\n",
    "    results: results table from tool\n",
    "    genes: a list of all genes in the dataset\n",
    "    method: p_val_adj, q_value, log.p.adj, or escore.\n",
    "    pscores: should only be provided if method is \"escore\"\n",
    "    \"\"\"\n",
    "    \n",
    "    if method == \"p_val_adj\":  # change to adjusted\n",
    "        min_idx = results.groupby(\"gene\")[method].idxmin().values\n",
    "        results = results.loc[min_idx, :].set_index(\"gene\")\n",
    "        prob = 1 - results.loc[:, method]\n",
    "    if method == \"q_value\":\n",
    "        prob = 1 - results.loc[:, method]\n",
    "    elif method == \"log.p.adj\":\n",
    "        prob = 1 - 10 ** results.loc[:, method]\n",
    "    elif method == \"escore\":\n",
    "        std, mean = pscores.std(ddof=1), pscores.median()\n",
    "        norm = np.abs(results - mean) / std\n",
    "        prob = (norm - np.min(norm)) / (np.max(norm) - np.min(norm))\n",
    "        prob = prob.max(1)\n",
    "        \n",
    "    prob = [prob[g] if g in prob.index else 0 for g in genes]\n",
    "\n",
    "    return prob"
   ]
  },
  {
   "cell_type": "markdown",
   "metadata": {},
   "source": [
    "## 2. Compute the AUCs"
   ]
  },
  {
   "cell_type": "markdown",
   "metadata": {},
   "source": [
    "### a. Set some lists to use for looping"
   ]
  },
  {
   "cell_type": "code",
   "execution_count": 5,
   "metadata": {},
   "outputs": [],
   "source": [
    "n_cells = [1000, 3000, 5000, 7000, 10000]\n",
    "n_clusts = [2, 6, 10, 14, 20]\n",
    "\n",
    "methods = [\n",
    " \"SEMITONES_UMAP_rbf\", \"SEMITONES_UMAP_cosine\", \"SEMITONES_PCA_cosine\",\n",
    " \"sCH_UMAP\", \"sCH_PCA\",\n",
    " \"monocle3_graphs\",\n",
    " \"MAST_filtered\", \"MAST_unfiltered\",\n",
    " \"Wilcoxon_filtered\", \"Wilcoxon_unfiltered\"\n",
    "]\n",
    "\n",
    "labels = [\n",
    " \"SEMITONES (UMAP, RBF)\", \"SEMITONES (UMAP, cosine)\", \"SEMITONES (PCA, cosine)\",\n",
    " \"singleCellHaystack (UMAP)\", \"singleCellHaystack (PCA)\",\n",
    " \"Monocle3 (graph)\",\n",
    " \"MAST (default)\", \"MAST (unfiltered)\",\n",
    " \"Wilcoxon (default)\", \"Wilcoxon (unfiltered)\" \n",
    "]\n",
    "\n",
    "colours = [\n",
    " \"#00b6ce\", \"#3ec8c8\", \"#2ee6da\",  # blues for SEMITONES\n",
    " \"#dd7300\", \"#ffb33c\",  # oranges for singleCellHaystack\n",
    " \"#7466f8\",  # purple for monocle3\n",
    " \"#c76cd7\", \"#dd4ec1\",  # green for MAST\n",
    " \"#aee680\", \"#4f8722\"  # blue for Wilcoxon\n",
    "]\n",
    "\n",
    "simulations = [\"1000_cells_2_clusts\", \"3000_cells_6_clusts\",\n",
    "               \"5000_cells_10_clusts\", \"7000_cells_14_clusts\",\n",
    "               \"10000_cells_20_clusts\"]\n",
    "\n",
    "# set which value p-value/score is used by which methods\n",
    "pval = methods[-4:]\n",
    "pvalue = methods[-5]\n",
    "sch = methods[3:5]\n",
    "\n",
    "#genes = [f\"Gene{i}\" for i in range(1, 10001)]  # gene names"
   ]
  },
  {
   "cell_type": "markdown",
   "metadata": {},
   "source": [
    "### b. Calculate the AUROC for the cluster simulations"
   ]
  },
  {
   "cell_type": "markdown",
   "metadata": {},
   "source": [
    "#### i. Get the ground truth of differential expression"
   ]
  },
  {
   "cell_type": "code",
   "execution_count": 6,
   "metadata": {},
   "outputs": [],
   "source": [
    "cluster_gts = {}\n",
    "for i in range(5):\n",
    "    sim = simulations[i]\n",
    "    cluster_gts[sim] = {}\n",
    "    for j in range(1, 11):  # for all 10 iterations\n",
    "        rowdata = sim + f\"_it{j}_groups_rowdata.txt\"\n",
    "        rowdata = pd.read_csv(rowdata, sep=\" \")\n",
    "        genes = rowdata.Gene\n",
    "        q1, q2 = 2, 98  # percentile cut-offs\n",
    "        cluster_gts[sim][j] = ground_truth(rowdata, q1, q2)"
   ]
  },
  {
   "cell_type": "markdown",
   "metadata": {},
   "source": [
    "#### ii. Calculate the AUROCs"
   ]
  },
  {
   "cell_type": "code",
   "execution_count": 7,
   "metadata": {},
   "outputs": [],
   "source": [
    "cluster_scores = {}\n",
    "for i in range(5):\n",
    "\n",
    "    sim = simulations[i]  # simulation name\n",
    "    cluster_scores[sim] = {}\n",
    "\n",
    "    for method in methods:\n",
    "\n",
    "        cluster_scores[sim][method] = {}\n",
    "\n",
    "        for j in range(1, 11):\n",
    "\n",
    "            # transform p-values or scores to probabilities\n",
    "            rname = f\"{sim}_it{j}_groups_{method}.txt\"\n",
    "            if \"SEMITONES\" in method:\n",
    "                results = pd.read_csv(rname, sep=\"\\t\", index_col=0)\n",
    "                pname = f\"{sim}_it{j}_groups_{method}_pscores.txt\"\n",
    "                pscores = pd.read_csv(pname, sep=\"\\t\", index_col=0)\n",
    "                prob = p_to_prob(results, genes, method=\"escore\",\n",
    "                                 pscores=pscores)\n",
    "            else:\n",
    "                try:\n",
    "                    results = pd.read_csv(rname, sep=\" \")\n",
    "                    if (\"Wilcoxon\" in method) or (\"MAST\" in method):\n",
    "                        prob = p_to_prob(results, genes,\n",
    "                                         method=\"p_val_adj\")\n",
    "                    elif \"monocle\" in method:\n",
    "                        prob = p_to_prob(results, genes,\n",
    "                                         method=\"q_value\")\n",
    "                    else:\n",
    "                        prob = p_to_prob(results, genes,\n",
    "                                         method=\"log.p.adj\")\n",
    "                except FileNotFoundError:\n",
    "                    prob = False\n",
    "                    pass\n",
    "\n",
    "            # get the AUROC\n",
    "            gt = cluster_gts[sim][j]\n",
    "            if prob is False:\n",
    "                cluster_scores[sim][method][j] = np.nan\n",
    "            else:\n",
    "                cluster_scores[sim][method][j] = roc_auc_score(gt, prob)"
   ]
  },
  {
   "cell_type": "markdown",
   "metadata": {},
   "source": [
    "#### iii. Get the median, minimum and maximum AUROC per simulation per method"
   ]
  },
  {
   "cell_type": "code",
   "execution_count": 8,
   "metadata": {},
   "outputs": [],
   "source": [
    "cluster_scores = [pd.DataFrame(cluster_scores[simulations[i]])\n",
    "                  for i in range(5)]\n",
    "cluster_medians = [cluster_scores[i].median().values for i in range(5)]\n",
    "cluster_medians = pd.DataFrame(cluster_medians, index=simulations,\n",
    "                               columns=methods)\n",
    "cluster_mins = [cluster_scores[i].min().values for i in range(5)]\n",
    "cluster_mins = pd.DataFrame(cluster_mins, index=simulations,\n",
    "                            columns=methods)\n",
    "cluster_maxs = [cluster_scores[i].max().values for i in range(5)]\n",
    "cluster_maxs = pd.DataFrame(cluster_maxs, index=simulations,\n",
    "                            columns=methods)"
   ]
  },
  {
   "cell_type": "markdown",
   "metadata": {},
   "source": [
    "### c. Calculate the AUROC for the trajectory simulations"
   ]
  },
  {
   "cell_type": "markdown",
   "metadata": {},
   "source": [
    "#### i. Get the ground truth for differential expression"
   ]
  },
  {
   "cell_type": "code",
   "execution_count": 9,
   "metadata": {},
   "outputs": [],
   "source": [
    "trajectory_gts = {}\n",
    "for i in range(5):\n",
    "    sim = simulations[i]\n",
    "    trajectory_gts[sim] = {}\n",
    "    for j in range(1, 11):  # for all 10 iterations\n",
    "        rowdata = sim + f\"_it{j}_paths_rowdata.txt\"\n",
    "        rowdata = pd.read_csv(rowdata, sep=\" \")\n",
    "        genes = rowdata.Gene\n",
    "        q1, q2 = 2, 98  # percentile cut-offs\n",
    "        trajectory_gts[sim][j] = ground_truth(rowdata, q1, q2)"
   ]
  },
  {
   "cell_type": "markdown",
   "metadata": {},
   "source": [
    "#### i. Calculate the AUROCs"
   ]
  },
  {
   "cell_type": "code",
   "execution_count": 10,
   "metadata": {},
   "outputs": [],
   "source": [
    "trajectory_scores = {}\n",
    "for i in range(5):\n",
    "\n",
    "    sim = simulations[i]  # simulation name\n",
    "    trajectory_scores[sim] = {}\n",
    "\n",
    "    for method in methods:\n",
    "\n",
    "        trajectory_scores[sim][method] = {}\n",
    "\n",
    "        for j in range(1, 11):\n",
    "\n",
    "            # transform p-values or scores to probabilities\n",
    "            rname = f\"{sim}_it{j}_paths_{method}.txt\"\n",
    "            if \"SEMITONES\" in method:\n",
    "                results = pd.read_csv(rname, sep=\"\\t\", index_col=0)\n",
    "                pname = f\"{sim}_it{j}_paths_{method}_pscores.txt\"\n",
    "                pscores = pd.read_csv(pname, sep=\"\\t\", index_col=0)\n",
    "                prob = p_to_prob(results, genes, method=\"escore\",\n",
    "                                 pscores=pscores)\n",
    "            else:\n",
    "                try:\n",
    "                    results = pd.read_csv(rname, sep=\" \")\n",
    "                    if (\"Wilcoxon\" in method) or (\"MAST\" in method):\n",
    "                        prob = p_to_prob(results, genes,\n",
    "                                         method=\"p_val_adj\")\n",
    "                    elif \"monocle\" in method:\n",
    "                        prob = p_to_prob(results, genes,\n",
    "                                         method=\"q_value\")\n",
    "                    else:\n",
    "                        prob = p_to_prob(results, genes,\n",
    "                                         method=\"log.p.adj\")\n",
    "                except FileNotFoundError:\n",
    "                    prob = False\n",
    "                    pass\n",
    "\n",
    "            # get the AUROC\n",
    "            gt = trajectory_gts[sim][j]\n",
    "            if prob is False:\n",
    "                trajectory_scores[sim][method][j] = np.nan\n",
    "            else:\n",
    "                trajectory_scores[sim][method][j] = roc_auc_score(gt, prob)"
   ]
  },
  {
   "cell_type": "markdown",
   "metadata": {},
   "source": [
    "#### iii. Get the median, minimum and maximum AUROC per simulation per method"
   ]
  },
  {
   "cell_type": "code",
   "execution_count": 11,
   "metadata": {},
   "outputs": [],
   "source": [
    "trajectory_scores = [pd.DataFrame(trajectory_scores[simulations[i]])\n",
    "                     for i in range(5)]\n",
    "trajectory_medians = [trajectory_scores[i].median().values\n",
    "                      for i in range(5)]\n",
    "trajectory_medians = pd.DataFrame(trajectory_medians, index=simulations,\n",
    "                                  columns=methods)\n",
    "trajectory_mins = [trajectory_scores[i].min().values for i in range(5)]\n",
    "trajectory_mins = pd.DataFrame(trajectory_mins, index=simulations,\n",
    "                               columns=methods)\n",
    "trajectory_maxs = [trajectory_scores[i].max().values for i in range(5)]\n",
    "trajectory_maxs = pd.DataFrame(trajectory_maxs, index=simulations,\n",
    "                               columns=methods)"
   ]
  },
  {
   "cell_type": "markdown",
   "metadata": {},
   "source": [
    "### d.Combined AUROCs over cluster and trajectory simulations"
   ]
  },
  {
   "cell_type": "markdown",
   "metadata": {},
   "source": [
    "#### i. Filter simulation 5 for MAST and Wilcoxon in unfiltered data\n",
    "Due to runtime constraints, MAST and Wilcoxon differential testing was only performed for a part of all simulations"
   ]
  },
  {
   "cell_type": "code",
   "execution_count": 12,
   "metadata": {},
   "outputs": [
    {
     "data": {
      "text/html": [
       "<div>\n",
       "<style scoped>\n",
       "    .dataframe tbody tr th:only-of-type {\n",
       "        vertical-align: middle;\n",
       "    }\n",
       "\n",
       "    .dataframe tbody tr th {\n",
       "        vertical-align: top;\n",
       "    }\n",
       "\n",
       "    .dataframe thead th {\n",
       "        text-align: right;\n",
       "    }\n",
       "</style>\n",
       "<table border=\"1\" class=\"dataframe\">\n",
       "  <thead>\n",
       "    <tr style=\"text-align: right;\">\n",
       "      <th></th>\n",
       "      <th>SEMITONES_UMAP_rbf</th>\n",
       "      <th>SEMITONES_UMAP_cosine</th>\n",
       "      <th>SEMITONES_PCA_cosine</th>\n",
       "      <th>sCH_UMAP</th>\n",
       "      <th>sCH_PCA</th>\n",
       "      <th>monocle3_graphs</th>\n",
       "      <th>MAST_filtered</th>\n",
       "      <th>MAST_unfiltered</th>\n",
       "      <th>Wilcoxon_filtered</th>\n",
       "      <th>Wilcoxon_unfiltered</th>\n",
       "    </tr>\n",
       "  </thead>\n",
       "  <tbody>\n",
       "    <tr>\n",
       "      <th>1</th>\n",
       "      <td>0.840226</td>\n",
       "      <td>0.776664</td>\n",
       "      <td>0.826870</td>\n",
       "      <td>0.738614</td>\n",
       "      <td>0.801975</td>\n",
       "      <td>0.795621</td>\n",
       "      <td>0.599980</td>\n",
       "      <td>0.826072</td>\n",
       "      <td>0.599980</td>\n",
       "      <td>0.831671</td>\n",
       "    </tr>\n",
       "    <tr>\n",
       "      <th>2</th>\n",
       "      <td>0.842981</td>\n",
       "      <td>0.782441</td>\n",
       "      <td>0.833951</td>\n",
       "      <td>0.729548</td>\n",
       "      <td>0.800359</td>\n",
       "      <td>0.799929</td>\n",
       "      <td>0.603727</td>\n",
       "      <td>0.828548</td>\n",
       "      <td>0.603727</td>\n",
       "      <td>0.834099</td>\n",
       "    </tr>\n",
       "    <tr>\n",
       "      <th>3</th>\n",
       "      <td>0.832248</td>\n",
       "      <td>0.781978</td>\n",
       "      <td>0.829667</td>\n",
       "      <td>0.739172</td>\n",
       "      <td>0.799272</td>\n",
       "      <td>0.796182</td>\n",
       "      <td>0.594436</td>\n",
       "      <td>0.822967</td>\n",
       "      <td>0.594436</td>\n",
       "      <td>0.828113</td>\n",
       "    </tr>\n",
       "    <tr>\n",
       "      <th>4</th>\n",
       "      <td>0.837658</td>\n",
       "      <td>0.774346</td>\n",
       "      <td>0.822366</td>\n",
       "      <td>0.730517</td>\n",
       "      <td>0.795976</td>\n",
       "      <td>0.794603</td>\n",
       "      <td>0.604396</td>\n",
       "      <td>0.822078</td>\n",
       "      <td>0.604396</td>\n",
       "      <td>0.827269</td>\n",
       "    </tr>\n",
       "    <tr>\n",
       "      <th>5</th>\n",
       "      <td>0.837210</td>\n",
       "      <td>0.779071</td>\n",
       "      <td>0.816470</td>\n",
       "      <td>0.732086</td>\n",
       "      <td>0.795484</td>\n",
       "      <td>0.797936</td>\n",
       "      <td>0.597016</td>\n",
       "      <td>0.821299</td>\n",
       "      <td>0.597016</td>\n",
       "      <td>0.826491</td>\n",
       "    </tr>\n",
       "    <tr>\n",
       "      <th>6</th>\n",
       "      <td>0.843035</td>\n",
       "      <td>0.783287</td>\n",
       "      <td>0.828565</td>\n",
       "      <td>0.729453</td>\n",
       "      <td>0.798313</td>\n",
       "      <td>0.797288</td>\n",
       "      <td>0.589980</td>\n",
       "      <td>0.821530</td>\n",
       "      <td>0.589980</td>\n",
       "      <td>0.827752</td>\n",
       "    </tr>\n",
       "    <tr>\n",
       "      <th>7</th>\n",
       "      <td>0.840778</td>\n",
       "      <td>0.777828</td>\n",
       "      <td>0.822873</td>\n",
       "      <td>0.731685</td>\n",
       "      <td>0.798086</td>\n",
       "      <td>0.799418</td>\n",
       "      <td>0.602176</td>\n",
       "      <td>NaN</td>\n",
       "      <td>0.602176</td>\n",
       "      <td>NaN</td>\n",
       "    </tr>\n",
       "    <tr>\n",
       "      <th>8</th>\n",
       "      <td>0.845431</td>\n",
       "      <td>0.786878</td>\n",
       "      <td>0.833336</td>\n",
       "      <td>0.738184</td>\n",
       "      <td>0.804184</td>\n",
       "      <td>0.805900</td>\n",
       "      <td>0.606840</td>\n",
       "      <td>NaN</td>\n",
       "      <td>0.606840</td>\n",
       "      <td>NaN</td>\n",
       "    </tr>\n",
       "    <tr>\n",
       "      <th>9</th>\n",
       "      <td>0.841364</td>\n",
       "      <td>0.784199</td>\n",
       "      <td>0.829895</td>\n",
       "      <td>0.726898</td>\n",
       "      <td>0.799080</td>\n",
       "      <td>0.803973</td>\n",
       "      <td>0.596361</td>\n",
       "      <td>NaN</td>\n",
       "      <td>0.596361</td>\n",
       "      <td>NaN</td>\n",
       "    </tr>\n",
       "    <tr>\n",
       "      <th>10</th>\n",
       "      <td>0.838873</td>\n",
       "      <td>0.782895</td>\n",
       "      <td>0.828230</td>\n",
       "      <td>0.732929</td>\n",
       "      <td>0.797179</td>\n",
       "      <td>0.798351</td>\n",
       "      <td>0.597235</td>\n",
       "      <td>NaN</td>\n",
       "      <td>0.597235</td>\n",
       "      <td>NaN</td>\n",
       "    </tr>\n",
       "  </tbody>\n",
       "</table>\n",
       "</div>"
      ],
      "text/plain": [
       "    SEMITONES_UMAP_rbf  SEMITONES_UMAP_cosine  SEMITONES_PCA_cosine  sCH_UMAP  \\\n",
       "1             0.840226               0.776664              0.826870  0.738614   \n",
       "2             0.842981               0.782441              0.833951  0.729548   \n",
       "3             0.832248               0.781978              0.829667  0.739172   \n",
       "4             0.837658               0.774346              0.822366  0.730517   \n",
       "5             0.837210               0.779071              0.816470  0.732086   \n",
       "6             0.843035               0.783287              0.828565  0.729453   \n",
       "7             0.840778               0.777828              0.822873  0.731685   \n",
       "8             0.845431               0.786878              0.833336  0.738184   \n",
       "9             0.841364               0.784199              0.829895  0.726898   \n",
       "10            0.838873               0.782895              0.828230  0.732929   \n",
       "\n",
       "     sCH_PCA  monocle3_graphs  MAST_filtered  MAST_unfiltered  \\\n",
       "1   0.801975         0.795621       0.599980         0.826072   \n",
       "2   0.800359         0.799929       0.603727         0.828548   \n",
       "3   0.799272         0.796182       0.594436         0.822967   \n",
       "4   0.795976         0.794603       0.604396         0.822078   \n",
       "5   0.795484         0.797936       0.597016         0.821299   \n",
       "6   0.798313         0.797288       0.589980         0.821530   \n",
       "7   0.798086         0.799418       0.602176              NaN   \n",
       "8   0.804184         0.805900       0.606840              NaN   \n",
       "9   0.799080         0.803973       0.596361              NaN   \n",
       "10  0.797179         0.798351       0.597235              NaN   \n",
       "\n",
       "    Wilcoxon_filtered  Wilcoxon_unfiltered  \n",
       "1            0.599980             0.831671  \n",
       "2            0.603727             0.834099  \n",
       "3            0.594436             0.828113  \n",
       "4            0.604396             0.827269  \n",
       "5            0.597016             0.826491  \n",
       "6            0.589980             0.827752  \n",
       "7            0.602176                  NaN  \n",
       "8            0.606840                  NaN  \n",
       "9            0.596361                  NaN  \n",
       "10           0.597235                  NaN  "
      ]
     },
     "execution_count": 12,
     "metadata": {},
     "output_type": "execute_result"
    }
   ],
   "source": [
    "cluster_scores[4]"
   ]
  },
  {
   "cell_type": "code",
   "execution_count": 13,
   "metadata": {},
   "outputs": [
    {
     "data": {
      "text/html": [
       "<div>\n",
       "<style scoped>\n",
       "    .dataframe tbody tr th:only-of-type {\n",
       "        vertical-align: middle;\n",
       "    }\n",
       "\n",
       "    .dataframe tbody tr th {\n",
       "        vertical-align: top;\n",
       "    }\n",
       "\n",
       "    .dataframe thead th {\n",
       "        text-align: right;\n",
       "    }\n",
       "</style>\n",
       "<table border=\"1\" class=\"dataframe\">\n",
       "  <thead>\n",
       "    <tr style=\"text-align: right;\">\n",
       "      <th></th>\n",
       "      <th>SEMITONES_UMAP_rbf</th>\n",
       "      <th>SEMITONES_UMAP_cosine</th>\n",
       "      <th>SEMITONES_PCA_cosine</th>\n",
       "      <th>sCH_UMAP</th>\n",
       "      <th>sCH_PCA</th>\n",
       "      <th>monocle3_graphs</th>\n",
       "      <th>MAST_filtered</th>\n",
       "      <th>MAST_unfiltered</th>\n",
       "      <th>Wilcoxon_filtered</th>\n",
       "      <th>Wilcoxon_unfiltered</th>\n",
       "    </tr>\n",
       "  </thead>\n",
       "  <tbody>\n",
       "    <tr>\n",
       "      <th>1</th>\n",
       "      <td>0.683728</td>\n",
       "      <td>0.647649</td>\n",
       "      <td>0.609608</td>\n",
       "      <td>0.612619</td>\n",
       "      <td>0.649995</td>\n",
       "      <td>0.680722</td>\n",
       "      <td>0.536200</td>\n",
       "      <td>0.699167</td>\n",
       "      <td>0.536200</td>\n",
       "      <td>0.707054</td>\n",
       "    </tr>\n",
       "    <tr>\n",
       "      <th>2</th>\n",
       "      <td>0.690492</td>\n",
       "      <td>0.653425</td>\n",
       "      <td>0.656270</td>\n",
       "      <td>0.622084</td>\n",
       "      <td>0.657144</td>\n",
       "      <td>0.678683</td>\n",
       "      <td>0.530953</td>\n",
       "      <td>0.690344</td>\n",
       "      <td>0.530953</td>\n",
       "      <td>0.696945</td>\n",
       "    </tr>\n",
       "    <tr>\n",
       "      <th>3</th>\n",
       "      <td>0.695827</td>\n",
       "      <td>0.655461</td>\n",
       "      <td>0.628717</td>\n",
       "      <td>0.630975</td>\n",
       "      <td>0.667867</td>\n",
       "      <td>0.690367</td>\n",
       "      <td>0.533671</td>\n",
       "      <td>0.701257</td>\n",
       "      <td>0.533671</td>\n",
       "      <td>0.707606</td>\n",
       "    </tr>\n",
       "    <tr>\n",
       "      <th>4</th>\n",
       "      <td>0.691819</td>\n",
       "      <td>0.650089</td>\n",
       "      <td>0.646817</td>\n",
       "      <td>0.628243</td>\n",
       "      <td>0.671333</td>\n",
       "      <td>0.692854</td>\n",
       "      <td>0.536914</td>\n",
       "      <td>0.695916</td>\n",
       "      <td>0.536913</td>\n",
       "      <td>0.704300</td>\n",
       "    </tr>\n",
       "    <tr>\n",
       "      <th>5</th>\n",
       "      <td>0.698247</td>\n",
       "      <td>0.653862</td>\n",
       "      <td>0.636813</td>\n",
       "      <td>0.627459</td>\n",
       "      <td>0.652383</td>\n",
       "      <td>0.684152</td>\n",
       "      <td>0.532740</td>\n",
       "      <td>0.689047</td>\n",
       "      <td>0.532831</td>\n",
       "      <td>0.694309</td>\n",
       "    </tr>\n",
       "    <tr>\n",
       "      <th>6</th>\n",
       "      <td>0.696928</td>\n",
       "      <td>0.653056</td>\n",
       "      <td>0.623300</td>\n",
       "      <td>0.625379</td>\n",
       "      <td>0.662835</td>\n",
       "      <td>0.679218</td>\n",
       "      <td>0.529161</td>\n",
       "      <td>0.691366</td>\n",
       "      <td>0.529161</td>\n",
       "      <td>0.698276</td>\n",
       "    </tr>\n",
       "    <tr>\n",
       "      <th>7</th>\n",
       "      <td>0.703965</td>\n",
       "      <td>0.648132</td>\n",
       "      <td>0.633482</td>\n",
       "      <td>0.629341</td>\n",
       "      <td>0.670580</td>\n",
       "      <td>0.681907</td>\n",
       "      <td>0.534285</td>\n",
       "      <td>0.694885</td>\n",
       "      <td>0.534285</td>\n",
       "      <td>0.703843</td>\n",
       "    </tr>\n",
       "    <tr>\n",
       "      <th>8</th>\n",
       "      <td>0.712680</td>\n",
       "      <td>0.659796</td>\n",
       "      <td>0.639350</td>\n",
       "      <td>0.634925</td>\n",
       "      <td>0.669990</td>\n",
       "      <td>0.684200</td>\n",
       "      <td>0.537215</td>\n",
       "      <td>0.705855</td>\n",
       "      <td>0.537215</td>\n",
       "      <td>NaN</td>\n",
       "    </tr>\n",
       "    <tr>\n",
       "      <th>9</th>\n",
       "      <td>0.698320</td>\n",
       "      <td>0.656248</td>\n",
       "      <td>0.636818</td>\n",
       "      <td>0.617586</td>\n",
       "      <td>0.664571</td>\n",
       "      <td>0.686568</td>\n",
       "      <td>0.532520</td>\n",
       "      <td>NaN</td>\n",
       "      <td>0.532520</td>\n",
       "      <td>NaN</td>\n",
       "    </tr>\n",
       "    <tr>\n",
       "      <th>10</th>\n",
       "      <td>0.694755</td>\n",
       "      <td>0.650761</td>\n",
       "      <td>0.634184</td>\n",
       "      <td>0.618386</td>\n",
       "      <td>0.665291</td>\n",
       "      <td>0.679180</td>\n",
       "      <td>0.534372</td>\n",
       "      <td>NaN</td>\n",
       "      <td>0.534372</td>\n",
       "      <td>NaN</td>\n",
       "    </tr>\n",
       "  </tbody>\n",
       "</table>\n",
       "</div>"
      ],
      "text/plain": [
       "    SEMITONES_UMAP_rbf  SEMITONES_UMAP_cosine  SEMITONES_PCA_cosine  sCH_UMAP  \\\n",
       "1             0.683728               0.647649              0.609608  0.612619   \n",
       "2             0.690492               0.653425              0.656270  0.622084   \n",
       "3             0.695827               0.655461              0.628717  0.630975   \n",
       "4             0.691819               0.650089              0.646817  0.628243   \n",
       "5             0.698247               0.653862              0.636813  0.627459   \n",
       "6             0.696928               0.653056              0.623300  0.625379   \n",
       "7             0.703965               0.648132              0.633482  0.629341   \n",
       "8             0.712680               0.659796              0.639350  0.634925   \n",
       "9             0.698320               0.656248              0.636818  0.617586   \n",
       "10            0.694755               0.650761              0.634184  0.618386   \n",
       "\n",
       "     sCH_PCA  monocle3_graphs  MAST_filtered  MAST_unfiltered  \\\n",
       "1   0.649995         0.680722       0.536200         0.699167   \n",
       "2   0.657144         0.678683       0.530953         0.690344   \n",
       "3   0.667867         0.690367       0.533671         0.701257   \n",
       "4   0.671333         0.692854       0.536914         0.695916   \n",
       "5   0.652383         0.684152       0.532740         0.689047   \n",
       "6   0.662835         0.679218       0.529161         0.691366   \n",
       "7   0.670580         0.681907       0.534285         0.694885   \n",
       "8   0.669990         0.684200       0.537215         0.705855   \n",
       "9   0.664571         0.686568       0.532520              NaN   \n",
       "10  0.665291         0.679180       0.534372              NaN   \n",
       "\n",
       "    Wilcoxon_filtered  Wilcoxon_unfiltered  \n",
       "1            0.536200             0.707054  \n",
       "2            0.530953             0.696945  \n",
       "3            0.533671             0.707606  \n",
       "4            0.536913             0.704300  \n",
       "5            0.532831             0.694309  \n",
       "6            0.529161             0.698276  \n",
       "7            0.534285             0.703843  \n",
       "8            0.537215                  NaN  \n",
       "9            0.532520                  NaN  \n",
       "10           0.534372                  NaN  "
      ]
     },
     "execution_count": 13,
     "metadata": {},
     "output_type": "execute_result"
    }
   ],
   "source": [
    "trajectory_scores[4]"
   ]
  },
  {
   "cell_type": "markdown",
   "metadata": {},
   "source": [
    "We will only keep simulations 1-6 for MAST and Wilcoxon to prevent unbalanced results in the combined values due to differences in performance between cluster and trajectory data since performance on cluster data is generally higher for all methods."
   ]
  },
  {
   "cell_type": "code",
   "execution_count": 14,
   "metadata": {},
   "outputs": [],
   "source": [
    "nanrow, nancol = range(7,11), [\"MAST_unfiltered\", \"Wilcoxon_unfiltered\"]\n",
    "cluster_scores[4].loc[nanrow, nancol] = np.nan\n",
    "trajectory_scores[4].loc[nanrow, nancol] = np.nan"
   ]
  },
  {
   "cell_type": "markdown",
   "metadata": {},
   "source": [
    "#### i. Combine scores and take medians, mininums, and maximums"
   ]
  },
  {
   "cell_type": "code",
   "execution_count": 15,
   "metadata": {},
   "outputs": [],
   "source": [
    "combined_scores = [pd.concat([cluster_scores[i], trajectory_scores[i]])\n",
    "                   for i in range(5)]\n",
    "combined_medians = [combined_scores[i].median().values\n",
    "                    for i in range(5)]\n",
    "combined_medians = pd.DataFrame(combined_medians, index=simulations,\n",
    "                                columns=methods)\n",
    "combined_mins = [combined_scores[i].min().values for i in range(5)]\n",
    "combined_mins = pd.DataFrame(combined_mins, index=simulations,\n",
    "                             columns=methods)\n",
    "combined_maxs = [combined_scores[i].max().values for i in range(5)]\n",
    "combined_maxs = pd.DataFrame(combined_maxs, index=simulations,\n",
    "                             columns=methods)"
   ]
  },
  {
   "cell_type": "markdown",
   "metadata": {},
   "source": [
    "### e. Plot combined, cluster, and trajectory scores"
   ]
  },
  {
   "cell_type": "code",
   "execution_count": 16,
   "metadata": {},
   "outputs": [
    {
     "data": {
      "image/png": "[encoded data removed]",
      "text/plain": [
       "<Figure size 596.88x144 with 3 Axes>"
      ]
     },
     "metadata": {
      "needs_background": "light"
     },
     "output_type": "display_data"
    }
   ],
   "source": [
    "fig, axs = plt.subplots(1, 3)\n",
    "fig.set_figheight(2)\n",
    "fig.set_figwidth(8.29)\n",
    "x = range(5)\n",
    "for method, c, l in zip(methods, colours, labels):\n",
    "    # overall auc_medians\n",
    "    axs[0].plot(x, combined_medians.loc[:, method], linewidth=1, color=c, label=l)\n",
    "    axs[0].scatter(x, combined_medians.loc[:, method], s=1, color=c, rasterized=True)\n",
    "    axs[0].fill_between(range(5), combined_mins.loc[:, method],\n",
    "                           combined_maxs.loc[:, method],\n",
    "                           color=c, alpha=0.1)\n",
    "    axs[0].set_ylabel(\"Median AUROC\", fontsize=9)\n",
    "    axs[0].set_title(\"All simulations\", fontsize=9)\n",
    "    # clusters combined_medians\n",
    "    axs[1].plot(x, cluster_medians.loc[:, method], linewidth=1, color=c, label=l)\n",
    "    axs[1].scatter(x, cluster_medians.loc[:, method], s=1,\n",
    "                      color=c, rasterized=True)\n",
    "    axs[1].fill_between(range(5), cluster_mins.loc[:, method],\n",
    "                           cluster_maxs.loc[:, method],\n",
    "                           color=c, alpha=0.1)\n",
    "    axs[1].set_title(\"Cluster simulations\", fontsize=9)\n",
    "    # trajectory combined_medians\n",
    "    axs[2].plot(x, trajectory_medians.loc[:, method], linewidth=1, color=c, label=l)\n",
    "    axs[2].scatter(x, trajectory_medians.loc[:, method], s=1, color=c,\n",
    "                      rasterized=True)\n",
    "    plt.fill_between(range(5), trajectory_mins.loc[:, method],\n",
    "                     trajectory_maxs.loc[:, method],\n",
    "                     color=c, alpha=0.1)\n",
    "    axs[2].set_title(\"Trajectory simulations\", fontsize=9)\n",
    "# leg = axs[2].legend(ncol=2, bbox_to_anchor=(.5, -.5), fancybox=False)\n",
    "for ax in axs.ravel():\n",
    "    ax.set_ylim(0.45, 1)\n",
    "    ax.hlines(0.5, xmin=0, xmax=4, linewidth=1, color=\"#a5a5a5\", ls=\"--\",\n",
    "              alpha=1)\n",
    "    ax.set_yticks([.5, .6, .7, .8, .9, 1.])\n",
    "    ax.set_yticklabels([.5, .6, .7, .8, .9, 1.], size=7)\n",
    "    ax.set_xticks(x)\n",
    "    ax.set_xticklabels([1000, 3000, 5000, 7000, 10000], size=7)"
   ]
  },
  {
   "cell_type": "markdown",
   "metadata": {},
   "source": [
    "## 3. Compare times"
   ]
  },
  {
   "cell_type": "markdown",
   "metadata": {},
   "source": [
    "### a. Load the times"
   ]
  },
  {
   "cell_type": "code",
   "execution_count": 17,
   "metadata": {},
   "outputs": [],
   "source": [
    "with_p = [\"SEMITONES_UMAP_rbf_p\", \"SEMITONES_UMAP_cosine_p\",\n",
    "          \"SEMITONES_PCA_cosine_p\"]\n",
    "methods = methods + with_p"
   ]
  },
  {
   "cell_type": "code",
   "execution_count": 18,
   "metadata": {},
   "outputs": [
    {
     "data": {
      "text/plain": [
       "'SEMITONES_UMAP_rbf_p'"
      ]
     },
     "execution_count": 18,
     "metadata": {},
     "output_type": "execute_result"
    }
   ],
   "source": [
    "methods[10]"
   ]
  },
  {
   "cell_type": "code",
   "execution_count": 19,
   "metadata": {},
   "outputs": [
    {
     "data": {
      "text/plain": [
       "'SEMITONES_UMAP_rbf'"
      ]
     },
     "execution_count": 19,
     "metadata": {},
     "output_type": "execute_result"
    }
   ],
   "source": [
    "\"_\".join(methods[10].split(\"_\")[0:3])"
   ]
  },
  {
   "cell_type": "code",
   "execution_count": 20,
   "metadata": {},
   "outputs": [],
   "source": [
    "cluster_times = {}\n",
    "trajectory_times = {}\n",
    "for method in methods:\n",
    "    if not method in [\"MAST_unfiltered\", \"Wilcoxon_unfiltered\"]:\n",
    "        if \"_p\" in method:\n",
    "            m = \"_\".join(method.split(\"_\")[0:3])\n",
    "            fname = f\"groups_{m}_timesp.txt\"\n",
    "        else:\n",
    "            fname = f\"groups_{method}_times.txt\"\n",
    "        cluster_times[method] = pd.read_csv(fname, sep=\"\\t\"\n",
    "                                           ).iloc[:, 1:6]\n",
    "        if \"_p\" in method:\n",
    "            m = \"_\".join(method.split(\"_\")[0:3])\n",
    "            fname = f\"paths_{m}_timesp.txt\"\n",
    "        else:\n",
    "            fname = f\"paths_{method}_times.txt\"\n",
    "        trajectory_times[method] = pd.read_csv(fname, sep=\"\\t\"\n",
    "                                              ).iloc[:, 1:6]\n",
    "    else:\n",
    "        for sim in [\"groups\", \"paths\"]:\n",
    "            times = []\n",
    "            rng = range(1, 5) if method == \"MAST_unfiltered\" else range(1, 4)\n",
    "            for i in rng:\n",
    "                fname = f\"{sim}_{method}_times_it{i}.txt\"\n",
    "                t = pd.read_csv(fname, sep=\"\\t\", index_col=0).iloc[:, 1]\n",
    "                times.append(t)\n",
    "            times = pd.concat(times, axis=1).T\n",
    "            times.columns, times.index = simulations, rng\n",
    "            if sim == \"paths\":\n",
    "                trajectory_times[method] = times\n",
    "            else:\n",
    "                cluster_times[method] = times"
   ]
  },
  {
   "cell_type": "markdown",
   "metadata": {},
   "source": [
    "### b. Take median, min and max"
   ]
  },
  {
   "cell_type": "markdown",
   "metadata": {},
   "source": [
    "#### i. Cluster simulations"
   ]
  },
  {
   "cell_type": "code",
   "execution_count": 21,
   "metadata": {},
   "outputs": [],
   "source": [
    "cluster_times_medians = {k: v.median().values for k, v in cluster_times.items()}\n",
    "cluster_times_medians = pd.DataFrame(cluster_times_medians)\n",
    "cluster_times_medians.index = simulations\n",
    "\n",
    "cluster_times_mins = {k: v.min().values for k, v in cluster_times.items()}\n",
    "cluster_times_mins = pd.DataFrame(cluster_times_mins)\n",
    "cluster_times_mins.index = simulations\n",
    "\n",
    "cluster_times_maxs = {k: v.max().values for k, v in cluster_times.items()}\n",
    "cluster_times_maxs = pd.DataFrame(cluster_times_maxs)\n",
    "cluster_times_maxs.index = simulations"
   ]
  },
  {
   "cell_type": "markdown",
   "metadata": {},
   "source": [
    "#### ii. Trajectory simulations"
   ]
  },
  {
   "cell_type": "code",
   "execution_count": 22,
   "metadata": {},
   "outputs": [],
   "source": [
    "trajectory_times_medians = {k: v.median().values for k, v in trajectory_times.items()}\n",
    "trajectory_times_medians = pd.DataFrame(trajectory_times_medians)\n",
    "trajectory_times_medians.index = simulations\n",
    "trajectory_times_mins = {k: v.min().values for k, v in trajectory_times.items()}\n",
    "trajectory_times_mins = pd.DataFrame(trajectory_times_mins)\n",
    "trajectory_times_mins.index = simulations\n",
    "trajectory_times_maxs = {k: v.max().values for k, v in trajectory_times.items()}\n",
    "trajectory_times_maxs = pd.DataFrame(trajectory_times_maxs)\n",
    "trajectory_times_maxs.index = simulations"
   ]
  },
  {
   "cell_type": "markdown",
   "metadata": {},
   "source": [
    "#### iii. Combined"
   ]
  },
  {
   "cell_type": "code",
   "execution_count": 23,
   "metadata": {},
   "outputs": [],
   "source": [
    "combined_times = {}\n",
    "for method in trajectory_times.keys():\n",
    "    traj = trajectory_times[method]\n",
    "    clust = cluster_times[method]\n",
    "    times = pd.concat([clust, traj], axis=0)\n",
    "    times.index, times.columns = range(times.shape[0]), simulations\n",
    "    combined_times[method] = times"
   ]
  },
  {
   "cell_type": "code",
   "execution_count": 24,
   "metadata": {},
   "outputs": [],
   "source": [
    "times_medians = {k: v.median().values for k, v in combined_times.items()}\n",
    "times_medians = pd.DataFrame(times_medians)\n",
    "times_medians.index = simulations\n",
    "times_mins = {k: v.min().values for k, v in combined_times.items()}\n",
    "times_mins = pd.DataFrame(times_mins)\n",
    "times_mins.index = simulations\n",
    "times_maxs = {k: v.max().values for k, v in combined_times.items()}\n",
    "times_maxs = pd.DataFrame(times_maxs)\n",
    "times_maxs.index = simulations"
   ]
  },
  {
   "cell_type": "markdown",
   "metadata": {},
   "source": [
    "### e. Plot the times"
   ]
  },
  {
   "cell_type": "code",
   "execution_count": 25,
   "metadata": {},
   "outputs": [
    {
     "data": {
      "text/plain": [
       "Text(0.39, -0.05, 'Number of cells in simulation')"
      ]
     },
     "execution_count": 25,
     "metadata": {},
     "output_type": "execute_result"
    },
    {
     "data": {
      "image/png": "[encoded data removed]",
      "text/plain": [
       "<Figure size 596.88x144 with 3 Axes>"
      ]
     },
     "metadata": {
      "needs_background": "light"
     },
     "output_type": "display_data"
    }
   ],
   "source": [
    "fig, axs = plt.subplots(1, 3)\n",
    "fig.set_figheight(2)\n",
    "fig.set_figwidth(8.29)\n",
    "x = range(5)\n",
    "for method, c, l in zip(methods, colours + colours[0:3],\n",
    "                        labels + [None, None, None]):\n",
    "    # overall times_medians\n",
    "    ls = \"dotted\" if \"_p\" in method else \"solid\" \n",
    "    axs[0].plot(x, times_medians.loc[:, method], linewidth=1, color=c, label=l,\n",
    "                ls=ls)\n",
    "    axs[0].scatter(x, times_medians.loc[:, method], s=1, color=c, rasterized=True)\n",
    "    axs[0].fill_between(range(5), times_mins.loc[:, method],\n",
    "                           times_maxs.loc[:, method],\n",
    "                           color=c, alpha=0.1)\n",
    "    axs[0].set_ylabel(\"Median runtime\", fontsize=9, labelpad=10)\n",
    "    axs[0].set_title(\"All simulations\", fontsize=9)\n",
    "    # clusters times_medians\n",
    "    axs[1].plot(x, cluster_times_medians.loc[:, method], linewidth=1, color=c,\n",
    "                label=l, ls=ls)\n",
    "    axs[1].scatter(x, cluster_times_medians.loc[:, method], s=1,\n",
    "                      color=c, rasterized=True)\n",
    "    axs[1].fill_between(range(5), cluster_times_mins.loc[:, method],\n",
    "                           cluster_times_maxs.loc[:, method],\n",
    "                           color=c, alpha=0.1)\n",
    "    axs[1].set_title(\"Cluster simulations\", fontsize=9)\n",
    "    # trajectories times_medians\n",
    "    axs[2].plot(x, trajectory_times_medians.loc[:, method], linewidth=1,\n",
    "                color=c, label=l, ls=ls)\n",
    "    axs[2].scatter(x, trajectory_times_medians.loc[:, method], s=1, color=c,\n",
    "                      rasterized=True)\n",
    "    plt.fill_between(range(5), trajectory_times_mins.loc[:, method],\n",
    "                     trajectory_times_maxs.loc[:, method],\n",
    "                     color=c, alpha=0.1)\n",
    "    axs[2].set_title(\"Trajectory simulations\", fontsize=9)\n",
    "for ax in axs.ravel():\n",
    "    ax.set_ylim(1, 60*60*24+100000)\n",
    "    ax.hlines(60, xmin=0, xmax=4, linewidth=1, color=\"#a5a5a5\", ls=\"--\",\n",
    "              alpha=1)\n",
    "    ax.hlines(60*60, xmin=0, xmax=4, linewidth=1, color=\"#a5a5a5\", ls=\"--\",\n",
    "          alpha=1)\n",
    "    ax.hlines(60*60*24, xmin=0, xmax=4, linewidth=1, color=\"#a5a5a5\", ls=\"--\",\n",
    "              alpha=1)\n",
    "    ax.set_xticks(x)\n",
    "    ax.set_xticklabels([1000, 3000, 5000, 7000, 10000], size=7)\n",
    "    ax.set_yscale(\"log\")\n",
    "    ax.set_yticks([])\n",
    "    ax.set_yticklabels([], size=7)\n",
    "axs[2].yaxis.tick_right()\n",
    "axs[2].set_yticks([60, 60*60, 60*60&24])\n",
    "axs[2].set_yticklabels([\"1 min\", \"1 hour\", \"1 day\"], fontsize=7)\n",
    "fig.text(0.39, -.05, \"Number of cells in simulation\", va=\"center\", fontsize=9)"
   ]
  }
 ],
 "metadata": {
  "kernelspec": {
   "display_name": "Python 3",
   "language": "python",
   "name": "python3"
  },
  "language_info": {
   "codemirror_mode": {
    "name": "ipython",
    "version": 3
   },
   "file_extension": ".py",
   "mimetype": "text/x-python",
   "name": "python",
   "nbconvert_exporter": "python",
   "pygments_lexer": "ipython3",
   "version": "3.6.7"
  }
 },
 "nbformat": 4,
 "nbformat_minor": 4
}

{
 "cells": [
  {
   "cell_type": "markdown",
   "metadata": {},
   "source": [
    "# Plot the times and runtime values for Splatter simulations"
   ]
  },
  {
   "cell_type": "markdown",
   "metadata": {},
   "source": [
    "## 1. Set up the notebook and functions"
   ]
  },
  {
   "cell_type": "code",
   "execution_count": 1,
   "metadata": {},
   "outputs": [],
   "source": [
    "import os\n",
    "import numpy as np\n",
    "import pandas as pd\n",
    "import matplotlib.pyplot as plt\n",
    "\n",
    "from sklearn.metrics import roc_auc_score"
   ]
  },
  {
   "cell_type": "code",
   "execution_count": 2,
   "metadata": {},
   "outputs": [],
   "source": [
    "os.chdir(\"../data/simulations/\")"
   ]
  },
  {
   "cell_type": "code",
   "execution_count": 3,
   "metadata": {},
   "outputs": [],
   "source": [
    "def ground_truth(X):\n",
    "    cols = [c for c in X.columns if \"DEFac\" in c]\n",
    "    cols = X.loc[:, cols]\n",
    "    sig = (cols != 1).any(1)\n",
    "    return sig.values"
   ]
  },
  {
   "cell_type": "code",
   "execution_count": 4,
   "metadata": {},
   "outputs": [],
   "source": [
    "def p_to_prob(results, genes, method=None, pscores=None):\n",
    "    \"\"\"\n",
    "    results: results table from tool\n",
    "    genes: a list of all genes in the dataset\n",
    "    method: p-val, p-value log.p.adj, or escore.\n",
    "    pscores: should only be provided if method is \"escore\"\n",
    "    \"\"\"\n",
    "    \n",
    "    if method == \"p_val_adj\":  # change to adjusted\n",
    "        min_idx = results.groupby(\"gene\")[method].idxmin().values\n",
    "        results = results.loc[min_idx, :].set_index(\"gene\")\n",
    "        prob = 1 - results.loc[:, method]\n",
    "    if method == \"q_value\":\n",
    "        prob = 1 - results.loc[:, method]\n",
    "    elif method == \"log.p.adj\":\n",
    "        #prob = 1 - np.exp(results.loc[:, method])\n",
    "        prob = 1 - 10 ** results.loc[:, method]\n",
    "    elif method == \"escore\":\n",
    "        std, mean = pscores.std(ddof=1), pscores.mean()\n",
    "        norm = np.abs(results - mean) / std\n",
    "        prob = (norm - np.min(norm)) / (np.max(norm) - np.min(norm))\n",
    "        prob = prob.max(1)\n",
    "        \n",
    "    prob = [prob[g] if g in prob.index else 0 for g in genes]\n",
    "\n",
    "    return prob"
   ]
  },
  {
   "cell_type": "markdown",
   "metadata": {},
   "source": [
    "## 2. Compute the AUCs"
   ]
  },
  {
   "cell_type": "markdown",
   "metadata": {},
   "source": [
    "### a. Set some lists to use for looping"
   ]
  },
  {
   "cell_type": "code",
   "execution_count": 5,
   "metadata": {},
   "outputs": [],
   "source": [
    "n_cells = [1000, 3000, 5000, 7000, 10000]\n",
    "n_clusts = [2, 6, 10, 14, 20]\n",
    "\n",
    "methods = [\n",
    " \"SEMITONES_UMAP_rbf\", \"SEMITONES_UMAP_cosine\", \"SEMITONES_PCA_cosine\",\n",
    " \"sCH_UMAP\", \"sCH_PCA\",\n",
    " \"monocle3_graphs\",\n",
    " \"MAST_filtered\", \"MAST_unfiltered\",\n",
    " \"Wilcoxon_filtered\", \"Wilcoxon_unfiltered\"\n",
    "]\n",
    "\n",
    "labels = [\n",
    " \"SEMITONES (UMAP, RBF)\", \"SEMITONES (UMAP, cosine)\", \"SEMITONES (PCA, cosine)\",\n",
    " \"singleCellHaystack (UMAP)\", \"singleCellHaystack (PCA)\",\n",
    " \"Monocle3 (graph)\",\n",
    " \"MAST (default)\", \"MAST (unfiltered)\",\n",
    " \"Wilcoxon (default)\", \"Wilcoxon (unfiltered)\" \n",
    "]\n",
    "\n",
    "colours = [\n",
    " \"#00b6ce\", \"#3ec8c8\", \"#2ee6da\",  # blues for SEMITONES\n",
    " \"#dd7300\", \"#ffb33c\",  # oranges for singleCellHaystack\n",
    " \"#7466f8\",  # purple for monocle3\n",
    " \"#dd4ec1\", \"#c76cd7\",  # pink for MAST\n",
    " \"#4f8722\", \"#aee680\"  # green for Wilcoxon\n",
    "]\n",
    "\n",
    "simulations = [\"1000_cells_2_clusts\", \"3000_cells_6_clusts\",\n",
    "               \"5000_cells_10_clusts\", \"7000_cells_14_clusts\",\n",
    "               \"10000_cells_20_clusts\"]\n",
    "\n",
    "# set which value p-value/score is used by which methods\n",
    "pval = methods[-4:]\n",
    "pvalue = methods[-5]\n",
    "sch = methods[3:5]"
   ]
  },
  {
   "cell_type": "markdown",
   "metadata": {},
   "source": [
    "### b. Calculate the AUROC for the cluster simulations"
   ]
  },
  {
   "cell_type": "markdown",
   "metadata": {},
   "source": [
    "#### i. Get the ground truth of differential expression"
   ]
  },
  {
   "cell_type": "code",
   "execution_count": 6,
   "metadata": {},
   "outputs": [],
   "source": [
    "simulations = []\n",
    "groups_ground_truths = {}\n",
    "for i in range(5):\n",
    "    simulation = f\"{n_cells[i]}_cells_{n_clusts[i]}_clusts\"\n",
    "    simulations.append(simulation)\n",
    "    groups_ground_truths[simulation] = {}\n",
    "    for j in range(1, 11):\n",
    "        rowdata = simulation + f\"_it{j}_groups_rowdata.txt\"\n",
    "        rowdata = pd.read_csv(rowdata, sep=\" \")\n",
    "        genes = rowdata.Gene\n",
    "        groups_ground_truths[simulation][j] = ground_truth(rowdata)"
   ]
  },
  {
   "cell_type": "markdown",
   "metadata": {},
   "source": [
    "#### ii. Calculate the AUROCs"
   ]
  },
  {
   "cell_type": "code",
   "execution_count": 7,
   "metadata": {},
   "outputs": [],
   "source": [
    "groups_probs = {}\n",
    "for i in range(5):\n",
    "\n",
    "    simulation = f\"{n_cells[i]}_cells_{n_clusts[i]}_clusts\"\n",
    "    groups_probs[simulation] = {}\n",
    "\n",
    "    for method in methods:\n",
    "\n",
    "        groups_probs[simulation][method] = {}\n",
    "\n",
    "        for j in range(1, 11):\n",
    "\n",
    "            gt = groups_ground_truths[simulation][j]\n",
    "\n",
    "            # transform p-values or scores to probabilities\n",
    "            rname = f\"{simulation}_it{j}_groups_{method}.txt\"\n",
    "            if \"SEMITONES\" in method:\n",
    "                results = pd.read_csv(rname, sep=\"\\t\", index_col=0)\n",
    "                pname = f\"{simulation}_it{j}_groups_{method}_pscores.txt\"\n",
    "                pscores = pd.read_csv(pname, sep=\"\\t\", index_col=0)\n",
    "                groups_probs[simulation][method][j] = p_to_prob(results, genes, method=\"escore\", pscores=pscores)\n",
    "            else:\n",
    "                try:\n",
    "                    results = pd.read_csv(rname, sep=\" \")\n",
    "                    if method in pval:\n",
    "                        groups_probs[simulation][method][j] = p_to_prob(results, genes, method=\"p_val_adj\")\n",
    "                    elif method in pvalue:\n",
    "                        groups_probs[simulation][method][j] = p_to_prob(results, genes, method=\"q_value\")\n",
    "                    else:\n",
    "                        groups_probs[simulation][method][j] = p_to_prob(results, genes, method=\"log.p.adj\")\n",
    "                except FileNotFoundError:\n",
    "                    groups_probs[simulation][method][j] = False\n",
    "                    pass"
   ]
  },
  {
   "cell_type": "code",
   "execution_count": 8,
   "metadata": {},
   "outputs": [],
   "source": [
    "groups_scores = {}\n",
    "for i in range(5):\n",
    "\n",
    "    simulation = f\"{n_cells[i]}_cells_{n_clusts[i]}_clusts\"\n",
    "    groups_scores[simulation] = {}\n",
    "\n",
    "    for method in methods:\n",
    "\n",
    "        groups_scores[simulation][method] = {}\n",
    "\n",
    "        for j in range(1, 11):\n",
    "            # get the AUROC\n",
    "            gt = groups_ground_truths[simulation][j]\n",
    "            prob = groups_probs[simulation][method][j]\n",
    "            if prob is False:\n",
    "                groups_scores[simulation][method][j] = np.nan\n",
    "            else:\n",
    "                groups_scores[simulation][method][j] = roc_auc_score(gt, prob)"
   ]
  },
  {
   "cell_type": "markdown",
   "metadata": {},
   "source": [
    "#### iii. Get the median, minimum and maximum AUROC per simulation per method"
   ]
  },
  {
   "cell_type": "code",
   "execution_count": 9,
   "metadata": {},
   "outputs": [],
   "source": [
    "groups_scores = [pd.DataFrame(groups_scores[simulations[i]])\n",
    "                  for i in range(5)]\n",
    "groups_medians = [groups_scores[i].median().values for i in range(5)]\n",
    "groups_medians = pd.DataFrame(groups_medians, index=simulations,\n",
    "                               columns=methods)\n",
    "groups_mins = [groups_scores[i].min().values for i in range(5)]\n",
    "groups_mins = pd.DataFrame(groups_mins, index=simulations,\n",
    "                            columns=methods)\n",
    "groups_maxs = [groups_scores[i].max().values for i in range(5)]\n",
    "groups_maxs = pd.DataFrame(groups_maxs, index=simulations,\n",
    "                            columns=methods)"
   ]
  },
  {
   "cell_type": "markdown",
   "metadata": {},
   "source": [
    "### c. Calculate the AUROC for the trajectory simulations"
   ]
  },
  {
   "cell_type": "markdown",
   "metadata": {},
   "source": [
    "#### i. Get the ground truth for differential expression"
   ]
  },
  {
   "cell_type": "code",
   "execution_count": 10,
   "metadata": {},
   "outputs": [],
   "source": [
    "paths_ground_truths = {}\n",
    "for i in range(5):\n",
    "    simulation = f\"{n_cells[i]}_cells_{n_clusts[i]}_clusts\"\n",
    "    paths_ground_truths[simulation] = {}\n",
    "    for j in range(1, 11):\n",
    "        rowdata = simulation + f\"_it{j}_paths_rowdata.txt\"\n",
    "        rowdata = pd.read_csv(rowdata, sep=\" \")\n",
    "        genes = rowdata.Gene\n",
    "        paths_ground_truths[simulation][j] = ground_truth(rowdata)"
   ]
  },
  {
   "cell_type": "markdown",
   "metadata": {},
   "source": [
    "#### i. Calculate the AUROCs"
   ]
  },
  {
   "cell_type": "code",
   "execution_count": 11,
   "metadata": {},
   "outputs": [],
   "source": [
    "paths_probs = {}\n",
    "simulations = []\n",
    "for i in range(5):\n",
    "\n",
    "    simulation = f\"{n_cells[i]}_cells_{n_clusts[i]}_clusts\"\n",
    "    paths_probs[simulation] = {}\n",
    "    simulations.append(simulation)\n",
    "\n",
    "    for method in methods:\n",
    "\n",
    "        paths_probs[simulation][method] = {}\n",
    "\n",
    "        for j in range(1, 11):\n",
    "\n",
    "            # transform p-values or scores to probabilities\n",
    "            rname = f\"{simulation}_it{j}_paths_{method}.txt\"\n",
    "            if \"SEMITONES\" in method:\n",
    "                results = pd.read_csv(rname, sep=\"\\t\", index_col=0)\n",
    "                pname = f\"{simulation}_it{j}_paths_{method}_pscores.txt\"\n",
    "                pscores = pd.read_csv(pname, sep=\"\\t\", index_col=0)\n",
    "                paths_probs[simulation][method][j] = p_to_prob(results, genes, method=\"escore\", pscores=pscores)\n",
    "            else:\n",
    "                try:\n",
    "                    results = pd.read_csv(rname, sep=\" \")\n",
    "                    if method in pval:\n",
    "                        paths_probs[simulation][method][j] = p_to_prob(results, genes, method=\"p_val_adj\")\n",
    "                    elif method in pvalue:\n",
    "                        paths_probs[simulation][method][j] = p_to_prob(results, genes, method=\"q_value\")\n",
    "                    else:\n",
    "                        paths_probs[simulation][method][j] = p_to_prob(results, genes, method=\"log.p.adj\")\n",
    "                except FileNotFoundError:\n",
    "                    paths_probs[simulation][method][j] = False\n",
    "                    pass"
   ]
  },
  {
   "cell_type": "code",
   "execution_count": 12,
   "metadata": {},
   "outputs": [],
   "source": [
    "paths_scores = {}\n",
    "for i in range(5):\n",
    "\n",
    "    simulation = f\"{n_cells[i]}_cells_{n_clusts[i]}_clusts\"\n",
    "    paths_scores[simulation] = {}\n",
    "\n",
    "    for method in methods:\n",
    "\n",
    "        paths_scores[simulation][method] = {}\n",
    "\n",
    "        for j in range(1, 11):\n",
    "            # get the AUROC\n",
    "            prob = paths_probs[simulation][method][j]\n",
    "            gt = paths_ground_truths[simulation][j]\n",
    "            if prob is False:\n",
    "                paths_scores[simulation][method][j] = np.nan\n",
    "            else:\n",
    "                paths_scores[simulation][method][j] = roc_auc_score(gt, prob)"
   ]
  },
  {
   "cell_type": "markdown",
   "metadata": {},
   "source": [
    "#### iii. Get the median, minimum and maximum AUROC per simulation per method"
   ]
  },
  {
   "cell_type": "code",
   "execution_count": 13,
   "metadata": {},
   "outputs": [],
   "source": [
    "paths_scores = [pd.DataFrame(paths_scores[simulations[i]])\n",
    "                     for i in range(5)]\n",
    "paths_medians = [paths_scores[i].median().values\n",
    "                      for i in range(5)]\n",
    "paths_medians = pd.DataFrame(paths_medians, index=simulations,\n",
    "                                  columns=methods)\n",
    "paths_mins = [paths_scores[i].min().values for i in range(5)]\n",
    "paths_mins = pd.DataFrame(paths_mins, index=simulations,\n",
    "                               columns=methods)\n",
    "paths_maxs = [paths_scores[i].max().values for i in range(5)]\n",
    "paths_maxs = pd.DataFrame(paths_maxs, index=simulations,\n",
    "                               columns=methods)"
   ]
  },
  {
   "cell_type": "markdown",
   "metadata": {},
   "source": [
    "### d.Combined AUROCs over cluster and trajectory simulations"
   ]
  },
  {
   "cell_type": "markdown",
   "metadata": {},
   "source": [
    "#### i. Filter simulation 5 for MAST and Wilcoxon in unfiltered data\n",
    "Due to runtime constraints, MAST and Wilcoxon differential testing was only performed for a part of all simulations"
   ]
  },
  {
   "cell_type": "code",
   "execution_count": 14,
   "metadata": {},
   "outputs": [
    {
     "data": {
      "text/html": [
       "<div>\n",
       "<style scoped>\n",
       "    .dataframe tbody tr th:only-of-type {\n",
       "        vertical-align: middle;\n",
       "    }\n",
       "\n",
       "    .dataframe tbody tr th {\n",
       "        vertical-align: top;\n",
       "    }\n",
       "\n",
       "    .dataframe thead th {\n",
       "        text-align: right;\n",
       "    }\n",
       "</style>\n",
       "<table border=\"1\" class=\"dataframe\">\n",
       "  <thead>\n",
       "    <tr style=\"text-align: right;\">\n",
       "      <th></th>\n",
       "      <th>SEMITONES_UMAP_rbf</th>\n",
       "      <th>SEMITONES_UMAP_cosine</th>\n",
       "      <th>SEMITONES_PCA_cosine</th>\n",
       "      <th>sCH_UMAP</th>\n",
       "      <th>sCH_PCA</th>\n",
       "      <th>monocle3_graphs</th>\n",
       "      <th>MAST_filtered</th>\n",
       "      <th>MAST_unfiltered</th>\n",
       "      <th>Wilcoxon_filtered</th>\n",
       "      <th>Wilcoxon_unfiltered</th>\n",
       "    </tr>\n",
       "  </thead>\n",
       "  <tbody>\n",
       "    <tr>\n",
       "      <th>1</th>\n",
       "      <td>0.889076</td>\n",
       "      <td>0.781018</td>\n",
       "      <td>0.864501</td>\n",
       "      <td>0.682939</td>\n",
       "      <td>0.763920</td>\n",
       "      <td>0.807572</td>\n",
       "      <td>0.569247</td>\n",
       "      <td>0.836583</td>\n",
       "      <td>0.569247</td>\n",
       "      <td>0.847763</td>\n",
       "    </tr>\n",
       "    <tr>\n",
       "      <th>2</th>\n",
       "      <td>0.885470</td>\n",
       "      <td>0.788827</td>\n",
       "      <td>0.861629</td>\n",
       "      <td>0.684544</td>\n",
       "      <td>0.760496</td>\n",
       "      <td>0.800699</td>\n",
       "      <td>0.571942</td>\n",
       "      <td>0.835415</td>\n",
       "      <td>0.571942</td>\n",
       "      <td>0.844794</td>\n",
       "    </tr>\n",
       "    <tr>\n",
       "      <th>3</th>\n",
       "      <td>0.875560</td>\n",
       "      <td>0.782257</td>\n",
       "      <td>0.858274</td>\n",
       "      <td>0.689039</td>\n",
       "      <td>0.756497</td>\n",
       "      <td>0.796784</td>\n",
       "      <td>0.566055</td>\n",
       "      <td>0.829317</td>\n",
       "      <td>0.566055</td>\n",
       "      <td>0.837351</td>\n",
       "    </tr>\n",
       "    <tr>\n",
       "      <th>4</th>\n",
       "      <td>0.893516</td>\n",
       "      <td>0.794215</td>\n",
       "      <td>0.859663</td>\n",
       "      <td>0.697573</td>\n",
       "      <td>0.763653</td>\n",
       "      <td>0.802412</td>\n",
       "      <td>0.572225</td>\n",
       "      <td>0.838649</td>\n",
       "      <td>0.572225</td>\n",
       "      <td>0.846402</td>\n",
       "    </tr>\n",
       "    <tr>\n",
       "      <th>5</th>\n",
       "      <td>0.886065</td>\n",
       "      <td>0.783509</td>\n",
       "      <td>0.851053</td>\n",
       "      <td>0.684621</td>\n",
       "      <td>0.760871</td>\n",
       "      <td>0.788886</td>\n",
       "      <td>0.566644</td>\n",
       "      <td>0.828168</td>\n",
       "      <td>0.566644</td>\n",
       "      <td>0.837559</td>\n",
       "    </tr>\n",
       "    <tr>\n",
       "      <th>6</th>\n",
       "      <td>0.887802</td>\n",
       "      <td>0.789988</td>\n",
       "      <td>0.860327</td>\n",
       "      <td>0.685119</td>\n",
       "      <td>0.761769</td>\n",
       "      <td>0.799131</td>\n",
       "      <td>0.561252</td>\n",
       "      <td>0.826276</td>\n",
       "      <td>0.561252</td>\n",
       "      <td>0.835244</td>\n",
       "    </tr>\n",
       "    <tr>\n",
       "      <th>7</th>\n",
       "      <td>0.885597</td>\n",
       "      <td>0.782609</td>\n",
       "      <td>0.856439</td>\n",
       "      <td>0.684896</td>\n",
       "      <td>0.756954</td>\n",
       "      <td>0.793971</td>\n",
       "      <td>0.570479</td>\n",
       "      <td>NaN</td>\n",
       "      <td>0.570479</td>\n",
       "      <td>NaN</td>\n",
       "    </tr>\n",
       "    <tr>\n",
       "      <th>8</th>\n",
       "      <td>0.888873</td>\n",
       "      <td>0.793935</td>\n",
       "      <td>0.863254</td>\n",
       "      <td>0.687587</td>\n",
       "      <td>0.764734</td>\n",
       "      <td>0.806209</td>\n",
       "      <td>0.572998</td>\n",
       "      <td>NaN</td>\n",
       "      <td>0.572998</td>\n",
       "      <td>NaN</td>\n",
       "    </tr>\n",
       "    <tr>\n",
       "      <th>9</th>\n",
       "      <td>0.894559</td>\n",
       "      <td>0.788340</td>\n",
       "      <td>0.868459</td>\n",
       "      <td>0.676985</td>\n",
       "      <td>0.761104</td>\n",
       "      <td>0.811157</td>\n",
       "      <td>0.566929</td>\n",
       "      <td>NaN</td>\n",
       "      <td>0.566929</td>\n",
       "      <td>NaN</td>\n",
       "    </tr>\n",
       "    <tr>\n",
       "      <th>10</th>\n",
       "      <td>0.883715</td>\n",
       "      <td>0.786421</td>\n",
       "      <td>0.860322</td>\n",
       "      <td>0.677311</td>\n",
       "      <td>0.758383</td>\n",
       "      <td>0.791501</td>\n",
       "      <td>0.567014</td>\n",
       "      <td>NaN</td>\n",
       "      <td>0.567014</td>\n",
       "      <td>NaN</td>\n",
       "    </tr>\n",
       "  </tbody>\n",
       "</table>\n",
       "</div>"
      ],
      "text/plain": [
       "    SEMITONES_UMAP_rbf  SEMITONES_UMAP_cosine  SEMITONES_PCA_cosine  sCH_UMAP  \\\n",
       "1             0.889076               0.781018              0.864501  0.682939   \n",
       "2             0.885470               0.788827              0.861629  0.684544   \n",
       "3             0.875560               0.782257              0.858274  0.689039   \n",
       "4             0.893516               0.794215              0.859663  0.697573   \n",
       "5             0.886065               0.783509              0.851053  0.684621   \n",
       "6             0.887802               0.789988              0.860327  0.685119   \n",
       "7             0.885597               0.782609              0.856439  0.684896   \n",
       "8             0.888873               0.793935              0.863254  0.687587   \n",
       "9             0.894559               0.788340              0.868459  0.676985   \n",
       "10            0.883715               0.786421              0.860322  0.677311   \n",
       "\n",
       "     sCH_PCA  monocle3_graphs  MAST_filtered  MAST_unfiltered  \\\n",
       "1   0.763920         0.807572       0.569247         0.836583   \n",
       "2   0.760496         0.800699       0.571942         0.835415   \n",
       "3   0.756497         0.796784       0.566055         0.829317   \n",
       "4   0.763653         0.802412       0.572225         0.838649   \n",
       "5   0.760871         0.788886       0.566644         0.828168   \n",
       "6   0.761769         0.799131       0.561252         0.826276   \n",
       "7   0.756954         0.793971       0.570479              NaN   \n",
       "8   0.764734         0.806209       0.572998              NaN   \n",
       "9   0.761104         0.811157       0.566929              NaN   \n",
       "10  0.758383         0.791501       0.567014              NaN   \n",
       "\n",
       "    Wilcoxon_filtered  Wilcoxon_unfiltered  \n",
       "1            0.569247             0.847763  \n",
       "2            0.571942             0.844794  \n",
       "3            0.566055             0.837351  \n",
       "4            0.572225             0.846402  \n",
       "5            0.566644             0.837559  \n",
       "6            0.561252             0.835244  \n",
       "7            0.570479                  NaN  \n",
       "8            0.572998                  NaN  \n",
       "9            0.566929                  NaN  \n",
       "10           0.567014                  NaN  "
      ]
     },
     "execution_count": 14,
     "metadata": {},
     "output_type": "execute_result"
    }
   ],
   "source": [
    "groups_scores[4]"
   ]
  },
  {
   "cell_type": "code",
   "execution_count": 15,
   "metadata": {},
   "outputs": [
    {
     "data": {
      "text/html": [
       "<div>\n",
       "<style scoped>\n",
       "    .dataframe tbody tr th:only-of-type {\n",
       "        vertical-align: middle;\n",
       "    }\n",
       "\n",
       "    .dataframe tbody tr th {\n",
       "        vertical-align: top;\n",
       "    }\n",
       "\n",
       "    .dataframe thead th {\n",
       "        text-align: right;\n",
       "    }\n",
       "</style>\n",
       "<table border=\"1\" class=\"dataframe\">\n",
       "  <thead>\n",
       "    <tr style=\"text-align: right;\">\n",
       "      <th></th>\n",
       "      <th>SEMITONES_UMAP_rbf</th>\n",
       "      <th>SEMITONES_UMAP_cosine</th>\n",
       "      <th>SEMITONES_PCA_cosine</th>\n",
       "      <th>sCH_UMAP</th>\n",
       "      <th>sCH_PCA</th>\n",
       "      <th>monocle3_graphs</th>\n",
       "      <th>MAST_filtered</th>\n",
       "      <th>MAST_unfiltered</th>\n",
       "      <th>Wilcoxon_filtered</th>\n",
       "      <th>Wilcoxon_unfiltered</th>\n",
       "    </tr>\n",
       "  </thead>\n",
       "  <tbody>\n",
       "    <tr>\n",
       "      <th>1</th>\n",
       "      <td>0.650794</td>\n",
       "      <td>0.629708</td>\n",
       "      <td>0.596168</td>\n",
       "      <td>0.585021</td>\n",
       "      <td>0.618291</td>\n",
       "      <td>0.653477</td>\n",
       "      <td>0.523173</td>\n",
       "      <td>0.659485</td>\n",
       "      <td>0.523173</td>\n",
       "      <td>0.667834</td>\n",
       "    </tr>\n",
       "    <tr>\n",
       "      <th>2</th>\n",
       "      <td>0.646430</td>\n",
       "      <td>0.626180</td>\n",
       "      <td>0.624979</td>\n",
       "      <td>0.595905</td>\n",
       "      <td>0.628113</td>\n",
       "      <td>0.650754</td>\n",
       "      <td>0.521991</td>\n",
       "      <td>0.653331</td>\n",
       "      <td>0.521991</td>\n",
       "      <td>0.658500</td>\n",
       "    </tr>\n",
       "    <tr>\n",
       "      <th>3</th>\n",
       "      <td>0.663260</td>\n",
       "      <td>0.631937</td>\n",
       "      <td>0.612899</td>\n",
       "      <td>0.596941</td>\n",
       "      <td>0.631807</td>\n",
       "      <td>0.657302</td>\n",
       "      <td>0.522319</td>\n",
       "      <td>0.667420</td>\n",
       "      <td>0.522319</td>\n",
       "      <td>0.671617</td>\n",
       "    </tr>\n",
       "    <tr>\n",
       "      <th>4</th>\n",
       "      <td>0.674485</td>\n",
       "      <td>0.641707</td>\n",
       "      <td>0.637964</td>\n",
       "      <td>0.606739</td>\n",
       "      <td>0.649158</td>\n",
       "      <td>0.670847</td>\n",
       "      <td>0.524435</td>\n",
       "      <td>0.667057</td>\n",
       "      <td>0.524434</td>\n",
       "      <td>0.674684</td>\n",
       "    </tr>\n",
       "    <tr>\n",
       "      <th>5</th>\n",
       "      <td>0.668593</td>\n",
       "      <td>0.633405</td>\n",
       "      <td>0.616157</td>\n",
       "      <td>0.596866</td>\n",
       "      <td>0.615233</td>\n",
       "      <td>0.649182</td>\n",
       "      <td>0.520138</td>\n",
       "      <td>0.640044</td>\n",
       "      <td>0.520195</td>\n",
       "      <td>0.644997</td>\n",
       "    </tr>\n",
       "    <tr>\n",
       "      <th>6</th>\n",
       "      <td>0.668525</td>\n",
       "      <td>0.639147</td>\n",
       "      <td>0.593995</td>\n",
       "      <td>0.598717</td>\n",
       "      <td>0.636109</td>\n",
       "      <td>0.654015</td>\n",
       "      <td>0.517826</td>\n",
       "      <td>0.647310</td>\n",
       "      <td>0.517826</td>\n",
       "      <td>0.656661</td>\n",
       "    </tr>\n",
       "    <tr>\n",
       "      <th>7</th>\n",
       "      <td>0.673469</td>\n",
       "      <td>0.624583</td>\n",
       "      <td>0.618809</td>\n",
       "      <td>0.594892</td>\n",
       "      <td>0.632197</td>\n",
       "      <td>0.660259</td>\n",
       "      <td>0.522902</td>\n",
       "      <td>0.660887</td>\n",
       "      <td>0.522902</td>\n",
       "      <td>0.667031</td>\n",
       "    </tr>\n",
       "    <tr>\n",
       "      <th>8</th>\n",
       "      <td>0.676904</td>\n",
       "      <td>0.641554</td>\n",
       "      <td>0.623930</td>\n",
       "      <td>0.604853</td>\n",
       "      <td>0.635336</td>\n",
       "      <td>0.655368</td>\n",
       "      <td>0.523610</td>\n",
       "      <td>0.660264</td>\n",
       "      <td>0.523610</td>\n",
       "      <td>NaN</td>\n",
       "    </tr>\n",
       "    <tr>\n",
       "      <th>9</th>\n",
       "      <td>0.675336</td>\n",
       "      <td>0.633682</td>\n",
       "      <td>0.623563</td>\n",
       "      <td>0.592235</td>\n",
       "      <td>0.631300</td>\n",
       "      <td>0.658786</td>\n",
       "      <td>0.519661</td>\n",
       "      <td>NaN</td>\n",
       "      <td>0.519661</td>\n",
       "      <td>NaN</td>\n",
       "    </tr>\n",
       "    <tr>\n",
       "      <th>10</th>\n",
       "      <td>0.659226</td>\n",
       "      <td>0.622269</td>\n",
       "      <td>0.595180</td>\n",
       "      <td>0.585677</td>\n",
       "      <td>0.626850</td>\n",
       "      <td>0.650575</td>\n",
       "      <td>0.521653</td>\n",
       "      <td>NaN</td>\n",
       "      <td>0.521653</td>\n",
       "      <td>NaN</td>\n",
       "    </tr>\n",
       "  </tbody>\n",
       "</table>\n",
       "</div>"
      ],
      "text/plain": [
       "    SEMITONES_UMAP_rbf  SEMITONES_UMAP_cosine  SEMITONES_PCA_cosine  sCH_UMAP  \\\n",
       "1             0.650794               0.629708              0.596168  0.585021   \n",
       "2             0.646430               0.626180              0.624979  0.595905   \n",
       "3             0.663260               0.631937              0.612899  0.596941   \n",
       "4             0.674485               0.641707              0.637964  0.606739   \n",
       "5             0.668593               0.633405              0.616157  0.596866   \n",
       "6             0.668525               0.639147              0.593995  0.598717   \n",
       "7             0.673469               0.624583              0.618809  0.594892   \n",
       "8             0.676904               0.641554              0.623930  0.604853   \n",
       "9             0.675336               0.633682              0.623563  0.592235   \n",
       "10            0.659226               0.622269              0.595180  0.585677   \n",
       "\n",
       "     sCH_PCA  monocle3_graphs  MAST_filtered  MAST_unfiltered  \\\n",
       "1   0.618291         0.653477       0.523173         0.659485   \n",
       "2   0.628113         0.650754       0.521991         0.653331   \n",
       "3   0.631807         0.657302       0.522319         0.667420   \n",
       "4   0.649158         0.670847       0.524435         0.667057   \n",
       "5   0.615233         0.649182       0.520138         0.640044   \n",
       "6   0.636109         0.654015       0.517826         0.647310   \n",
       "7   0.632197         0.660259       0.522902         0.660887   \n",
       "8   0.635336         0.655368       0.523610         0.660264   \n",
       "9   0.631300         0.658786       0.519661              NaN   \n",
       "10  0.626850         0.650575       0.521653              NaN   \n",
       "\n",
       "    Wilcoxon_filtered  Wilcoxon_unfiltered  \n",
       "1            0.523173             0.667834  \n",
       "2            0.521991             0.658500  \n",
       "3            0.522319             0.671617  \n",
       "4            0.524434             0.674684  \n",
       "5            0.520195             0.644997  \n",
       "6            0.517826             0.656661  \n",
       "7            0.522902             0.667031  \n",
       "8            0.523610                  NaN  \n",
       "9            0.519661                  NaN  \n",
       "10           0.521653                  NaN  "
      ]
     },
     "execution_count": 15,
     "metadata": {},
     "output_type": "execute_result"
    }
   ],
   "source": [
    "paths_scores[4]"
   ]
  },
  {
   "cell_type": "markdown",
   "metadata": {},
   "source": [
    "We will only keep simulations 1-6 for MAST and Wilcoxon to prevent unbalanced results in the combined values due to differences in performance between cluster and trajectory data since performance on cluster data is generally higher for all methods."
   ]
  },
  {
   "cell_type": "code",
   "execution_count": 16,
   "metadata": {},
   "outputs": [],
   "source": [
    "nanrow, nancol = range(7,11), [\"MAST_unfiltered\", \"Wilcoxon_unfiltered\"]\n",
    "groups_scores[4].loc[nanrow, nancol] = np.nan\n",
    "paths_scores[4].loc[nanrow, nancol] = np.nan"
   ]
  },
  {
   "cell_type": "markdown",
   "metadata": {},
   "source": [
    "#### i. Combine scores and take medians, mininums, and maximums"
   ]
  },
  {
   "cell_type": "code",
   "execution_count": 17,
   "metadata": {},
   "outputs": [],
   "source": [
    "combined_scores = [pd.concat([groups_scores[i], paths_scores[i]])\n",
    "                   for i in range(5)]\n",
    "combined_medians = [combined_scores[i].median().values\n",
    "                    for i in range(5)]\n",
    "combined_medians = pd.DataFrame(combined_medians, index=simulations,\n",
    "                                columns=methods)\n",
    "combined_mins = [combined_scores[i].min().values for i in range(5)]\n",
    "combined_mins = pd.DataFrame(combined_mins, index=simulations,\n",
    "                             columns=methods)\n",
    "combined_maxs = [combined_scores[i].max().values for i in range(5)]\n",
    "combined_maxs = pd.DataFrame(combined_maxs, index=simulations,\n",
    "                             columns=methods)"
   ]
  },
  {
   "cell_type": "markdown",
   "metadata": {},
   "source": [
    "### e. Plot combined, cluster, and trajectory scores"
   ]
  },
  {
   "cell_type": "code",
   "execution_count": 18,
   "metadata": {},
   "outputs": [
    {
     "data": {
      "image/png": "[encoded data removed]",
      "text/plain": [
       "<Figure size 596.88x144 with 3 Axes>"
      ]
     },
     "metadata": {
      "needs_background": "light"
     },
     "output_type": "display_data"
    }
   ],
   "source": [
    "fig, axs = plt.subplots(1, 3)\n",
    "fig.set_figheight(2)\n",
    "fig.set_figwidth(8.29)\n",
    "x = range(5)\n",
    "for method, c, l in zip(methods, colours, labels):\n",
    "    # overall auc_medians\n",
    "    axs[0].plot(x, combined_medians.loc[:, method], linewidth=1, color=c, label=l)\n",
    "    axs[0].scatter(x, combined_medians.loc[:, method], s=1, color=c, rasterized=True)\n",
    "    axs[0].fill_between(range(5), combined_mins.loc[:, method],\n",
    "                           combined_maxs.loc[:, method],\n",
    "                           color=c, alpha=0.1)\n",
    "    axs[0].set_ylabel(\"Median AUROC\", fontsize=9)\n",
    "    axs[0].set_title(\"All simulations\", fontsize=9)\n",
    "    # clusters combined_medians\n",
    "    axs[1].plot(x, groups_medians.loc[:, method], linewidth=1, color=c, label=l)\n",
    "    axs[1].scatter(x, groups_medians.loc[:, method], s=1,\n",
    "                      color=c, rasterized=True)\n",
    "    axs[1].fill_between(range(5), groups_mins.loc[:, method],\n",
    "                           groups_maxs.loc[:, method],\n",
    "                           color=c, alpha=0.1)\n",
    "    axs[1].set_title(\"Cluster simulations\", fontsize=9)\n",
    "    # trajectory combined_medians\n",
    "    axs[2].plot(x, paths_medians.loc[:, method], linewidth=1, color=c, label=l)\n",
    "    axs[2].scatter(x, paths_medians.loc[:, method], s=1, color=c,\n",
    "                      rasterized=True)\n",
    "    plt.fill_between(range(5), paths_mins.loc[:, method],\n",
    "                     paths_maxs.loc[:, method],\n",
    "                     color=c, alpha=0.1)\n",
    "    axs[2].set_title(\"Trajectory simulations\", fontsize=9)\n",
    "# leg = axs[2].legend(ncol=2, bbox_to_anchor=(.5, -.5), fancybox=False)\n",
    "for ax in axs.ravel():\n",
    "    ax.set_ylim(0.45, 1)\n",
    "    ax.hlines(0.5, xmin=0, xmax=4, linewidth=1, color=\"#a5a5a5\", ls=\"--\",\n",
    "              alpha=1)\n",
    "    ax.set_yticks([.5, .6, .7, .8, .9, 1.])\n",
    "    ax.set_yticklabels([.5, .6, .7, .8, .9, 1.], size=7)\n",
    "    ax.set_xticks(x)\n",
    "    ax.set_xticklabels([1000, 3000, 5000, 7000, 10000], size=7)"
   ]
  },
  {
   "cell_type": "markdown",
   "metadata": {},
   "source": [
    "## 3. Compare times"
   ]
  },
  {
   "cell_type": "markdown",
   "metadata": {},
   "source": [
    "### a. Load the times"
   ]
  },
  {
   "cell_type": "code",
   "execution_count": 19,
   "metadata": {},
   "outputs": [],
   "source": [
    "with_p = [\"SEMITONES_UMAP_rbf_p\", \"SEMITONES_UMAP_cosine_p\",\n",
    "          \"SEMITONES_PCA_cosine_p\"]\n",
    "methods = methods + with_p"
   ]
  },
  {
   "cell_type": "code",
   "execution_count": 20,
   "metadata": {},
   "outputs": [
    {
     "data": {
      "text/plain": [
       "'SEMITONES_UMAP_rbf_p'"
      ]
     },
     "execution_count": 20,
     "metadata": {},
     "output_type": "execute_result"
    }
   ],
   "source": [
    "methods[10]"
   ]
  },
  {
   "cell_type": "code",
   "execution_count": 21,
   "metadata": {},
   "outputs": [
    {
     "data": {
      "text/plain": [
       "'SEMITONES_UMAP_rbf'"
      ]
     },
     "execution_count": 21,
     "metadata": {},
     "output_type": "execute_result"
    }
   ],
   "source": [
    "\"_\".join(methods[10].split(\"_\")[0:3])"
   ]
  },
  {
   "cell_type": "code",
   "execution_count": 22,
   "metadata": {},
   "outputs": [],
   "source": [
    "groups_times = {}\n",
    "paths_times = {}\n",
    "for method in methods:\n",
    "    if not method in [\"MAST_unfiltered\", \"Wilcoxon_unfiltered\"]:\n",
    "        if \"_p\" in method:\n",
    "            m = \"_\".join(method.split(\"_\")[0:3])\n",
    "            fname = f\"groups_{m}_timesp.txt\"\n",
    "        else:\n",
    "            fname = f\"groups_{method}_times.txt\"\n",
    "        groups_times[method] = pd.read_csv(fname, sep=\"\\t\"\n",
    "                                           ).iloc[:, 1:6]\n",
    "        if \"_p\" in method:\n",
    "            m = \"_\".join(method.split(\"_\")[0:3])\n",
    "            fname = f\"paths_{m}_timesp.txt\"\n",
    "        else:\n",
    "            fname = f\"paths_{method}_times.txt\"\n",
    "        paths_times[method] = pd.read_csv(fname, sep=\"\\t\"\n",
    "                                              ).iloc[:, 1:6]\n",
    "    else:\n",
    "        for sim in [\"groups\", \"paths\"]:\n",
    "            times = []\n",
    "            rng = range(1, 5) if method == \"MAST_unfiltered\" else range(1, 3)\n",
    "            for i in rng:\n",
    "                fname = f\"{sim}_{method}_times_it{i}.txt\"\n",
    "                t = pd.read_csv(fname, sep=\"\\t\", index_col=0).iloc[:, 1]\n",
    "                times.append(t)\n",
    "            times = pd.concat(times, axis=1).T\n",
    "            times.columns, times.index = simulations, rng\n",
    "            if sim == \"paths\":\n",
    "                paths_times[method] = times\n",
    "            else:\n",
    "                groups_times[method] = times"
   ]
  },
  {
   "cell_type": "markdown",
   "metadata": {},
   "source": [
    "### b. Take median, min and max"
   ]
  },
  {
   "cell_type": "markdown",
   "metadata": {},
   "source": [
    "#### i. Cluster simulations"
   ]
  },
  {
   "cell_type": "code",
   "execution_count": 23,
   "metadata": {},
   "outputs": [],
   "source": [
    "groups_times_medians = {k: v.median().values for k, v in groups_times.items()}\n",
    "groups_times_medians = pd.DataFrame(groups_times_medians)\n",
    "groups_times_medians.index = simulations\n",
    "\n",
    "groups_times_mins = {k: v.min().values for k, v in groups_times.items()}\n",
    "groups_times_mins = pd.DataFrame(groups_times_mins)\n",
    "groups_times_mins.index = simulations\n",
    "\n",
    "groups_times_maxs = {k: v.max().values for k, v in groups_times.items()}\n",
    "groups_times_maxs = pd.DataFrame(groups_times_maxs)\n",
    "groups_times_maxs.index = simulations"
   ]
  },
  {
   "cell_type": "markdown",
   "metadata": {},
   "source": [
    "#### ii. Trajectory simulations"
   ]
  },
  {
   "cell_type": "code",
   "execution_count": 24,
   "metadata": {},
   "outputs": [],
   "source": [
    "paths_times_medians = {k: v.median().values for k, v in paths_times.items()}\n",
    "paths_times_medians = pd.DataFrame(paths_times_medians)\n",
    "paths_times_medians.index = simulations\n",
    "paths_times_mins = {k: v.min().values for k, v in paths_times.items()}\n",
    "paths_times_mins = pd.DataFrame(paths_times_mins)\n",
    "paths_times_mins.index = simulations\n",
    "paths_times_maxs = {k: v.max().values for k, v in paths_times.items()}\n",
    "paths_times_maxs = pd.DataFrame(paths_times_maxs)\n",
    "paths_times_maxs.index = simulations"
   ]
  },
  {
   "cell_type": "markdown",
   "metadata": {},
   "source": [
    "#### iii. Combined"
   ]
  },
  {
   "cell_type": "code",
   "execution_count": 25,
   "metadata": {},
   "outputs": [],
   "source": [
    "combined_times = {}\n",
    "for method in paths_times.keys():\n",
    "    traj = paths_times[method]\n",
    "    clust = groups_times[method]\n",
    "    times = pd.concat([clust, traj], axis=0)\n",
    "    times.index, times.columns = range(times.shape[0]), simulations\n",
    "    combined_times[method] = times"
   ]
  },
  {
   "cell_type": "code",
   "execution_count": 26,
   "metadata": {},
   "outputs": [],
   "source": [
    "times_medians = {k: v.median().values for k, v in combined_times.items()}\n",
    "times_medians = pd.DataFrame(times_medians)\n",
    "times_medians.index = simulations\n",
    "times_mins = {k: v.min().values for k, v in combined_times.items()}\n",
    "times_mins = pd.DataFrame(times_mins)\n",
    "times_mins.index = simulations\n",
    "times_maxs = {k: v.max().values for k, v in combined_times.items()}\n",
    "times_maxs = pd.DataFrame(times_maxs)\n",
    "times_maxs.index = simulations"
   ]
  },
  {
   "cell_type": "markdown",
   "metadata": {},
   "source": [
    "### e. Plot the times"
   ]
  },
  {
   "cell_type": "code",
   "execution_count": 27,
   "metadata": {},
   "outputs": [
    {
     "data": {
      "text/plain": [
       "Text(0.39, -0.05, 'Number of cells in simulation')"
      ]
     },
     "execution_count": 27,
     "metadata": {},
     "output_type": "execute_result"
    },
    {
     "data": {
      "image/png": "[encoded data removed]",
      "text/plain": [
       "<Figure size 596.88x144 with 3 Axes>"
      ]
     },
     "metadata": {
      "needs_background": "light"
     },
     "output_type": "display_data"
    }
   ],
   "source": [
    "fig, axs = plt.subplots(1, 3)\n",
    "fig.set_figheight(2)\n",
    "fig.set_figwidth(8.29)\n",
    "x = range(5)\n",
    "for method, c, l in zip(methods, colours + colours[0:3],\n",
    "                        labels + [None, None, None]):\n",
    "    # overall times_medians\n",
    "    ls = \"dotted\" if \"_p\" in method else \"solid\" \n",
    "    axs[0].plot(x, times_medians.loc[:, method], linewidth=1, color=c, label=l,\n",
    "                ls=ls)\n",
    "    axs[0].scatter(x, times_medians.loc[:, method], s=1, color=c, rasterized=True)\n",
    "    axs[0].fill_between(range(5), times_mins.loc[:, method],\n",
    "                           times_maxs.loc[:, method],\n",
    "                           color=c, alpha=0.1)\n",
    "    axs[0].set_ylabel(\"Median runtime\", fontsize=9, labelpad=10)\n",
    "    axs[0].set_title(\"All simulations\", fontsize=9)\n",
    "    # clusters times_medians\n",
    "    axs[1].plot(x, groups_times_medians.loc[:, method], linewidth=1, color=c,\n",
    "                label=l, ls=ls)\n",
    "    axs[1].scatter(x, groups_times_medians.loc[:, method], s=1,\n",
    "                      color=c, rasterized=True)\n",
    "    axs[1].fill_between(range(5), groups_times_mins.loc[:, method],\n",
    "                           groups_times_maxs.loc[:, method],\n",
    "                           color=c, alpha=0.1)\n",
    "    axs[1].set_title(\"Cluster simulations\", fontsize=9)\n",
    "    # trajectories times_medians\n",
    "    axs[2].plot(x, paths_times_medians.loc[:, method], linewidth=1,\n",
    "                color=c, label=l, ls=ls)\n",
    "    axs[2].scatter(x, paths_times_medians.loc[:, method], s=1, color=c,\n",
    "                      rasterized=True)\n",
    "    plt.fill_between(range(5), paths_times_mins.loc[:, method],\n",
    "                     paths_times_maxs.loc[:, method],\n",
    "                     color=c, alpha=0.1)\n",
    "    axs[2].set_title(\"Trajectory simulations\", fontsize=9)\n",
    "for ax in axs.ravel():\n",
    "    ax.set_ylim(1, 60*60*24+100000)\n",
    "    ax.hlines(60, xmin=0, xmax=4, linewidth=1, color=\"#a5a5a5\", ls=\"--\",\n",
    "              alpha=1)\n",
    "    ax.hlines(60*60, xmin=0, xmax=4, linewidth=1, color=\"#a5a5a5\", ls=\"--\",\n",
    "          alpha=1)\n",
    "    ax.hlines(60*60*24, xmin=0, xmax=4, linewidth=1, color=\"#a5a5a5\", ls=\"--\",\n",
    "              alpha=1)\n",
    "    ax.set_xticks(x)\n",
    "    ax.set_xticklabels([1000, 3000, 5000, 7000, 10000], size=7)\n",
    "    ax.set_yscale(\"log\")\n",
    "    ax.set_yticks([])\n",
    "    ax.set_yticklabels([], size=7)\n",
    "axs[2].yaxis.tick_right()\n",
    "axs[2].set_yticks([60, 60*60, 60*60&24])\n",
    "axs[2].set_yticklabels([\"1 min\", \"1 hour\", \"1 day\"], fontsize=7)\n",
    "fig.text(0.39, -.05, \"Number of cells in simulation\", va=\"center\", fontsize=9)"
   ]
  }
 ],
 "metadata": {
  "kernelspec": {
   "display_name": "Python 3",
   "language": "python",
   "name": "python3"
  },
  "language_info": {
   "codemirror_mode": {
    "name": "ipython",
    "version": 3
   },
   "file_extension": ".py",
   "mimetype": "text/x-python",
   "name": "python",
   "nbconvert_exporter": "python",
   "pygments_lexer": "ipython3",
   "version": "3.6.7"
  }
 },
 "nbformat": 4,
 "nbformat_minor": 4
}
